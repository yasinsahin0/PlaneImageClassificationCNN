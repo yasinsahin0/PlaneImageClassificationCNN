{
 "cells": [
  {
   "cell_type": "code",
   "execution_count": 59,
   "id": "804ecc13-ff53-4cf2-96b9-14fdfccf1626",
   "metadata": {},
   "outputs": [],
   "source": [
    "from tensorflow.keras.preprocessing.image import ImageDataGenerator\n",
    "from keras.preprocessing.image import array_to_img, img_to_array, load_img\n",
    "import matplotlib.pyplot as plt\n",
    "import numpy as np\n",
    "\n",
    "import warnings\n",
    "warnings.filterwarnings('ignore')"
   ]
  },
  {
   "cell_type": "code",
   "execution_count": 60,
   "id": "03401b77-9580-492c-bf6d-ff466e018ecf",
   "metadata": {},
   "outputs": [],
   "source": [
    "base_dir = \"planes\""
   ]
  },
  {
   "cell_type": "code",
   "execution_count": 111,
   "id": "7a336457-1922-44e8-8051-6562e8a949ae",
   "metadata": {},
   "outputs": [],
   "source": [
    "datagen = ImageDataGenerator(rescale=1./255)"
   ]
  },
  {
   "cell_type": "code",
   "execution_count": 112,
   "id": "b342291b-ec62-4743-9ba6-91d723476ad7",
   "metadata": {},
   "outputs": [],
   "source": [
    "img = load_img('planes/drone/00000046.jpg')\n",
    "x = img_to_array(img)\n",
    "x = x.reshape((1,)+x.shape)"
   ]
  },
  {
   "cell_type": "code",
   "execution_count": 113,
   "id": "f0a01dc6-587b-43a9-943c-8b34d80b48ee",
   "metadata": {},
   "outputs": [],
   "source": [
    "i = 0\n",
    "for batch in datagen.flow(x,batch_size=1, save_to_dir='data_augmentation', save_format='jpg'):\n",
    "  i += 1\n",
    "  if i > 20:\n",
    "    break"
   ]
  },
  {
   "cell_type": "code",
   "execution_count": null,
   "id": "e77a57a9-b3b1-460a-b613-b4ca21d312f1",
   "metadata": {},
   "outputs": [],
   "source": []
  }
 ],
 "metadata": {
  "kernelspec": {
   "display_name": "Python 3 (ipykernel)",
   "language": "python",
   "name": "python3"
  },
  "language_info": {
   "codemirror_mode": {
    "name": "ipython",
    "version": 3
   },
   "file_extension": ".py",
   "mimetype": "text/x-python",
   "name": "python",
   "nbconvert_exporter": "python",
   "pygments_lexer": "ipython3",
   "version": "3.8.12"
  }
 },
 "nbformat": 4,
 "nbformat_minor": 5
}
